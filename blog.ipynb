{
 "cells": [
  {
   "cell_type": "markdown",
   "id": "0787dee7",
   "metadata": {},
   "source": [
    "## `import duckdb` for Atlas Data Measurements analysis"
   ]
  },
  {
   "cell_type": "markdown",
   "id": "8cb91c43",
   "metadata": {},
   "source": [
    "Say, which one of these command you find more inteligible? \n",
    "\n",
    "\n",
    "1. Pandas Dataframe language:\n",
    " ```python\n",
    "result = filtered_df.groupby('rdata').agg({'rt': 'mean', 'rdata': 'size'}).rename(columns={'rdata': 'responses'}).reset_index()\n",
    "```\n",
    "\n",
    "2. DuckDB syntax\n",
    "\n",
    "```python\n",
    "res=con.sql('''\n",
    "select rdata,avg(rt),count(1) as responses from atlas where \n",
    "    rdata ~ 'b[0-9]-[A-Za-z]{3}'\n",
    "    AND rdata IS NOT NULL\n",
    "    group by rdata\n",
    "''')\n",
    "```\n",
    "\n",
    "\n",
    "If you are often confused or irritated by `pandas` dataframe syntax, _suffer no more_. \n",
    "\n",
    "You can use SQL instead without any DB server. On your notebook.\n",
    "And it's fast.\n",
    "\n",
    "We showcase here [duckdb](https://duckdb.org/), an open-source  which can be used for Atlas measurement analysis.\n",
    "\n",
    "Duckdb is:\n",
    "   * Fully integrated with pandas (so you can import and export from and to)\n",
    "   * Allows SQL execution on data \n",
    "   * A in-memory database\n",
    "   * Severless (in python)\n"
   ]
  },
  {
   "cell_type": "markdown",
   "id": "a7f391e8",
   "metadata": {},
   "source": [
    "## Pandas vs Duckdb\n",
    "\n",
    "In this example, we will compare how you can use `pandas` and `dudckdb` to some some analysis on Ripe Atlas measurements. \n",
    "\n",
    "The goal is to show a simple use case so you can use it later on your own analysis.\n",
    "\n",
    "\n",
    "### Experiment\n",
    "\n",
    "We will obtain a DNS data from Ripe Atlas and Atlas Probe information and perform some basic statistics\n"
   ]
  },
  {
   "cell_type": "markdown",
   "id": "dab603dc",
   "metadata": {},
   "source": [
    "## Part 1: Data preparation"
   ]
  },
  {
   "cell_type": "code",
   "execution_count": 165,
   "id": "c255c7c6",
   "metadata": {},
   "outputs": [],
   "source": [
    "#setting the measurements we will analyze\n",
    "\n",
    "#b-root atlas measrurements, `chaos queries`, 15min \n",
    "# see more on https://www.isi.edu/~johnh/PAPERS/Moura16b.pdf for more on these measurements\n",
    "\n",
    "b_root_measurements=\"https://atlas.ripe.net/api/v2/measurements/10310/results/?start=1730025000&stop=1730025900&format=json\"\n",
    "\n",
    "#Altas probes metadata, daily compiled\n",
    "probes_file=\"https://ftp.ripe.net/ripe/atlas/probes/archive/2024/10/20241027.json.bz2\""
   ]
  },
  {
   "cell_type": "code",
   "execution_count": 166,
   "id": "8ab549b9",
   "metadata": {},
   "outputs": [],
   "source": [
    "#import python libraries\n",
    "import pandas as pd\n",
    "import json\n",
    "import duckdb\n",
    "import requests\n",
    "\n",
    "import bz2\n",
    "from io import BytesIO "
   ]
  },
  {
   "cell_type": "code",
   "execution_count": 167,
   "id": "c5008d6f",
   "metadata": {},
   "outputs": [],
   "source": [
    "b_root=requests.get(b_root_measurements)"
   ]
  },
  {
   "cell_type": "code",
   "execution_count": 168,
   "id": "01543df2",
   "metadata": {},
   "outputs": [],
   "source": [
    "b_root_data=b_root.json()"
   ]
  },
  {
   "cell_type": "code",
   "execution_count": 169,
   "id": "22f50d6b",
   "metadata": {},
   "outputs": [
    {
     "data": {
      "text/plain": [
       "{'fw': 4790,\n",
       " 'lts': 8,\n",
       " 'dst_addr': '170.247.170.2',\n",
       " 'af': 4,\n",
       " 'src_addr': '192.168.178.26',\n",
       " 'proto': 'UDP',\n",
       " 'result': {'rt': 22.052,\n",
       "  'size': 50,\n",
       "  'abuf': 'aVeAAAABAAEAAAAACGhvc3RuYW1lBGJpbmQAABAAA8AMABAAAwAAAAAABwZiMS1hbXM=',\n",
       "  'ID': 26967,\n",
       "  'ANCOUNT': 1,\n",
       "  'QDCOUNT': 1,\n",
       "  'NSCOUNT': 0,\n",
       "  'ARCOUNT': 0,\n",
       "  'answers': [{'TYPE': 'TXT', 'NAME': 'hostname.bind', 'RDATA': ['b1-ams']}]},\n",
       " 'msm_id': 10310,\n",
       " 'prb_id': 1,\n",
       " 'timestamp': 1730025017,\n",
       " 'msm_name': 'Tdig',\n",
       " 'from': '45.138.229.91',\n",
       " 'type': 'dns',\n",
       " 'stored_timestamp': 1730025074}"
      ]
     },
     "execution_count": 169,
     "metadata": {},
     "output_type": "execute_result"
    }
   ],
   "source": [
    "#sample data\n",
    "b_root_data[0]"
   ]
  },
  {
   "cell_type": "code",
   "execution_count": 170,
   "id": "4e54bf6c",
   "metadata": {},
   "outputs": [],
   "source": [
    "def extract_info(data):\n",
    "    prb_id = data.get('prb_id')\n",
    "    timestamp = data.get('timestamp')\n",
    "    src_addr = data.get('src_addr')\n",
    "    rt = data.get('result', {}).get('rt')\n",
    "    answers = data.get('result', {}).get('answers', [{}])\n",
    "    \n",
    "    # Ensure 'answers' is a non-empty list and 'RDATA' is in the first item\n",
    "    rdata = None\n",
    "    if answers and 'RDATA' in answers[0]:\n",
    "        rdata = answers[0]['RDATA'][0] if answers[0]['RDATA'] else 'None'\n",
    "\n",
    "    return {\n",
    "        'prb_id': prb_id,\n",
    "        'timestamp': timestamp,\n",
    "        'src_addr': src_addr,\n",
    "        'rt': rt,\n",
    "        'rdata': rdata\n",
    "        \n",
    "    }\n",
    "    "
   ]
  },
  {
   "cell_type": "code",
   "execution_count": 171,
   "id": "5ba74af5",
   "metadata": {},
   "outputs": [],
   "source": [
    "data=[]\n",
    "for k in b_root_data:\n",
    "    data.append(extract_info(k))"
   ]
  },
  {
   "cell_type": "code",
   "execution_count": 172,
   "id": "af03ad58",
   "metadata": {},
   "outputs": [
    {
     "name": "stdout",
     "output_type": "stream",
     "text": [
      "We have retrieved  45781  measurements from Ripe Atlas\n"
     ]
    }
   ],
   "source": [
    "print('We have retrieved ', len(data), ' measurements from Ripe Atlas')"
   ]
  },
  {
   "cell_type": "code",
   "execution_count": 173,
   "id": "cde1d89d",
   "metadata": {},
   "outputs": [],
   "source": [
    "# now let's import it to a df\n",
    "df = pd.DataFrame(data)\n"
   ]
  },
  {
   "cell_type": "code",
   "execution_count": 176,
   "id": "a2d48250",
   "metadata": {},
   "outputs": [
    {
     "name": "stdout",
     "output_type": "stream",
     "text": [
      "[(1, 1730025017, '192.168.178.26', 22.052, 'b1-ams'), (1000071, 1730025005, '192.168.11.78', 26.959, 'b3-ams'), (1000082, 1730025031, '10.104.28.189', 157.843, 'b4-mia'), (1000087, 1730025010, '192.168.1.254', 21.212, 'b3-ams'), (1000088, 1730025025, '10.50.84.12', 17.236, None), (1000090, 1730025008, '45.77.57.71', 5.702, 'b3-ams'), (1000093, 1730025055, '172.16.32.16', 18.574, 'b1-ams'), (1000095, 1730025041, '31.187.64.140', 13.046, 'b3-ams'), (1000096, 1730025038, '176.126.70.164', 20.167, 'b3-ams'), (1000143, 1730025006, '150.145.72.97', None, None)]\n"
     ]
    }
   ],
   "source": [
    "#create a new database\n",
    "con=duckdb.connect('ripe')\n",
    "# Create a table and insert the DataFrame\n",
    "con.execute(\"CREATE TABLE IF NOT EXISTS atlas (prb_id INTEGER, timestamp INTEGER, src_addr TEXT, rt DOUBLE, rdata TEXT)\")\n",
    "con.execute(\"INSERT INTO atlas SELECT * FROM df\")\n",
    "# Query the table to verify\n",
    "result = con.execute(\"SELECT * FROM atlas limit 10\").fetchall()\n",
    "print(result)\n",
    "\n"
   ]
  },
  {
   "cell_type": "code",
   "execution_count": 177,
   "id": "c556202b",
   "metadata": {},
   "outputs": [
    {
     "name": "stdout",
     "output_type": "stream",
     "text": [
      "{'id': 1, 'address_v4': '45.138.229.91', 'address_v6': '2a10:3781:e22:1:220:4aff:fec8:23d7', 'asn_v4': 206238, 'asn_v6': 206238, 'prefix_v4': '45.138.228.0/22', 'prefix_v6': '2a10:3780::/29', 'is_anchor': False, 'is_public': True, 'status': 1, 'status_since': 1728711336, 'first_connected': 1288367583, 'total_uptime': 428217106, 'tags': ['dsl', 'home', 'nat', 'native-ipv6', 'ipv6', 'system-v1', 'system-ipv6-capable', 'system-ipv4-rfc1918', 'xs4all', 'system-ipv4-stable-1d', 'system-ipv4-works', 'system-ipv6-works', 'system-resolves-a-correctly', 'system-resolves-aaaa-correctly', 'system-ipv4-capable', 'system-ipv4-stable-30d'], 'country_code': 'NL', 'latitude': 52.3475, 'longitude': 4.9275, 'day': '20241027', 'probe': 'https://atlas.ripe.net/api/v2/probes/1/', 'status_name': 'Connected'}\n"
     ]
    }
   ],
   "source": [
    "#let's create a probe list to create later a dataframe and a new table\n",
    "## now we're going to download the probes metadata file\n",
    "#ok, let's now get the probes metadata\n",
    "# Download the file\n",
    "response = requests.get(probes_file)\n",
    "compressed_data = BytesIO(response.content)\n",
    "\n",
    "# Decompress the data in memory\n",
    "with bz2.BZ2File(compressed_data, 'rb') as file:\n",
    "    probes = json.load(file)\n",
    "\n",
    "print(probes['objects'][0])\n",
    "    \n",
    "\n",
    "pr_list=[]\n",
    "\n",
    "for k in probes['objects']:\n",
    "    pr_list.append(k)\n",
    "    \n",
    "#pandas df of probes\n",
    "df_prb=pd.DataFrame(pr_list)\n",
    "\n",
    "# now let's create  a duckdb table\n",
    "# yeah, we use pandas for it :)\n",
    "\n",
    "# Create a table and insert the DataFrame\n",
    "con.execute(\"CREATE TABLE IF NOT EXISTS probes AS SELECT * FROM df_prb\")\n",
    "\n",
    "# Verify the data in the DuckDB table\n",
    "test_query = con.execute(\"SELECT * FROM probes\").fetchdf()\n"
   ]
  },
  {
   "cell_type": "markdown",
   "id": "018f7f38",
   "metadata": {},
   "source": [
    "# Parte 2: Data analysis"
   ]
  },
  {
   "cell_type": "markdown",
   "id": "1321d88d",
   "metadata": {},
   "source": [
    "OK, so now we have two the same datasets (ripe atlas measurements and probes metadatata) stored in two different ways:\n",
    "  * Pandas dataframes:\n",
    "      * Measurements= `df`\n",
    "      * probes's metadata= `df_prb`\n",
    "  * Duckdb tables:\n",
    "      * Measurements= `atlas`\n",
    "      * probes's metadata= `probes`\n",
    "  \n",
    "Let's see how we can perform the same operations on both:"
   ]
  },
  {
   "cell_type": "code",
   "execution_count": 178,
   "id": "57685a85",
   "metadata": {},
   "outputs": [
    {
     "name": "stdout",
     "output_type": "stream",
     "text": [
      "                                   rdata          rt\n",
      "0                                   DNS1    0.724500\n",
      "1                                   DNS2    2.280000\n",
      "2                                   DNS3    1.031000\n",
      "3                          DNS_AF_NH3_01    4.687000\n",
      "4                          DNS_AF_NH3_13    4.401000\n",
      "5                          DNS_AF_NH3_15    4.119000\n",
      "6                          DNS_AF_NTH_16    4.109000\n",
      "7                                    NS1    1.195000\n",
      "8                     OPNsense.local.lan    1.421500\n",
      "9                    OPNsense.stuyts.com    0.464750\n",
      "10                    OPNsense.zunie.lan    0.467750\n",
      "11                           alliance-45    1.789000\n",
      "12                                     b   65.556000\n",
      "13                                b1-ams   36.881509\n",
      "14                                b1-iad   53.462525\n",
      "15                                b1-lax  122.322482\n",
      "16                                b1-mia  127.123686\n",
      "17                                b1-scl   25.029500\n",
      "18                                b1-sin   70.688205\n",
      "19                                b2-iad   54.949259\n",
      "20                                b2-lax  109.025563\n",
      "21                                b2-mia  127.239884\n",
      "22                                b2-scl   25.383507\n",
      "23                                b2-sin   72.801364\n",
      "24                                b3-ams   35.813374\n",
      "25                                b3-iad   58.834110\n",
      "26                                b3-lax  113.773521\n",
      "27                                b3-mia  114.486817\n",
      "28                                b3-scl   20.429663\n",
      "29                                b3-sin   79.691088\n",
      "30                                b4-ams   36.667410\n",
      "31                                b4-iad   51.383624\n",
      "32                                b4-lax  118.284348\n",
      "33                                b4-mia  135.924015\n",
      "34                                b4-sin   78.695698\n",
      "35                cachedns.bosveld.co.za    1.117636\n",
      "36                             centralpi    1.205000\n",
      "37                    dur-01-dns-cluster   33.576250\n",
      "38                            elb-01-dns   35.105000\n",
      "39                           g2sanfelipe    5.373000\n",
      "40                           g3maracaibo    7.273500\n",
      "41                        gateway.bt.lan    0.381250\n",
      "42                  gw01.jacobsylvia.com    0.917750\n",
      "43                 localhost.localdomain   17.728750\n",
      "44                              netlan-1    1.184250\n",
      "45                                   ns1    2.947000\n",
      "46                                   ns2    0.755333\n",
      "47                       okctms2.boit.us    2.101000\n",
      "48              opnsense.altus-escon.com    1.065500\n",
      "49     opnsense.freebsd.vm.pve.myers.app    1.328000\n",
      "50  pd3ajmeddx4li6ml.vla.yp-c.yandex.net   14.814750\n",
      "51                                proxy2    3.022500\n",
      "52            res100.qmxp1.rrdns.pch.net  453.884333\n",
      "53            res701.qmxp1.rrdns.pch.net  483.324000\n",
      "54                       thorin.mekom.ba    6.276250\n",
      "55                            tir-02-dns  120.030333\n",
      "56                                   tns    0.618750\n",
      "57                      wall.obskure.net    1.410667\n"
     ]
    }
   ],
   "source": [
    "# let's start with how many queries we have\n",
    "# let's compute the average RTT to each of the anycast server of b-root\n",
    "# each site (each serfver location) is identified by the rdata field\n",
    "\n",
    "# option 1: pandas\n",
    "\n",
    "# Compute average rt for each rdata\n",
    "average_rt = df.groupby('rdata')['rt'].mean().reset_index()\n",
    "\n",
    "print(average_rt)\n",
    "\n"
   ]
  },
  {
   "cell_type": "markdown",
   "id": "f838f2c1",
   "metadata": {},
   "source": [
    "### Deadling with bogus data\n",
    "\n",
    "As shown above, there are many results, but let's filtered out the valid ones.\n",
    "   * (Some DNS queires from Ripe Atlas clients are intercepted and hijacked, see [Moura16b](https://ant.isi.edu/~johnh/PAPERS/Moura16a.pdf) and [Nosyk23a](https://pure.tudelft.nl/ws/portalfiles/portal/151232870/978_3_031_28486_1_19.pdf) about it)\n",
    "   \n",
    "This means we need to filter out the data.\n",
    "\n",
    "We can do it by looking at the `rdata` strings. For [B-ROOT](https://b.root-servers.org/), it has the follow format:\n",
    "   *  bn-ABC , where `n` is a integer and `ABC` is a three letter string, denoting Airport Code\n",
    "   \n",
    " \n",
    "So let's see how can we do this filtering in both Pandas and Duckdb\n",
    "   \n"
   ]
  },
  {
   "cell_type": "code",
   "execution_count": 180,
   "id": "4e019b0f",
   "metadata": {},
   "outputs": [
    {
     "name": "stdout",
     "output_type": "stream",
     "text": [
      "     rdata          rt  responses\n",
      "0   b1-ams   36.881509       9621\n",
      "1   b1-iad   53.462525       1639\n",
      "2   b1-lax  122.322482        465\n",
      "3   b1-mia  127.123686        497\n",
      "4   b1-scl   25.029500         60\n",
      "5   b1-sin   70.688205        772\n",
      "6   b2-iad   54.949259       1710\n",
      "7   b2-lax  109.025563        467\n",
      "8   b2-mia  127.239884        524\n",
      "9   b2-scl   25.383507        144\n",
      "10  b2-sin   72.801364        758\n",
      "11  b3-ams   35.813374       9645\n",
      "12  b3-iad   58.834110       1949\n",
      "13  b3-lax  113.773521        484\n",
      "14  b3-mia  114.486817        491\n",
      "15  b3-scl   20.429663         83\n",
      "16  b3-sin   79.691088        735\n",
      "17  b4-ams   36.667410       9578\n",
      "18  b4-iad   51.383624       1848\n",
      "19  b4-lax  118.284348        443\n",
      "20  b4-mia  135.924015        549\n",
      "21  b4-sin   78.695698        884\n"
     ]
    }
   ],
   "source": [
    "# Filter rows where rdata matches the pattern bn-ABC\n",
    "filtered_df = df[df['rdata'].str.match(r'b\\d-[A-Za-z]{3}', na=False)]\n",
    "\n",
    "# Compute average rt and count for each rdata\n",
    "result = filtered_df.groupby('rdata').agg({'rt': 'mean', 'rdata': 'size'}).rename(columns={'rdata': 'responses'}).reset_index()\n",
    "\n",
    "print(result)\n"
   ]
  },
  {
   "cell_type": "code",
   "execution_count": 181,
   "id": "400c269a",
   "metadata": {},
   "outputs": [
    {
     "name": "stdout",
     "output_type": "stream",
     "text": [
      "┌─────────┬────────────────────┬───────────┐\n",
      "│  rdata  │      avg(rt)       │ responses │\n",
      "│ varchar │       double       │   int64   │\n",
      "├─────────┼────────────────────┼───────────┤\n",
      "│ b4-ams  │   36.6674102109001 │     28734 │\n",
      "│ b4-sin  │  78.69569796380097 │      2652 │\n",
      "│ b3-iad  │  58.83410979989737 │      5847 │\n",
      "│ b3-sin  │  79.69108843537417 │      2205 │\n",
      "│ b4-mia  │ 135.92401457194896 │      1647 │\n",
      "│ b1-lax  │    122.32248172043 │      1395 │\n",
      "│ b2-lax  │ 109.02556316916505 │      1401 │\n",
      "│ b2-sin  │  72.80136411609499 │      2274 │\n",
      "│ b2-mia  │  127.2398835877865 │      1572 │\n",
      "│ b1-ams  │ 36.885662150455666 │     28859 │\n",
      "│ b1-iad  │  53.46252471018906 │      4917 │\n",
      "│ b4-iad  │  51.38362391774884 │      5544 │\n",
      "│ b3-mia  │  114.4868167006109 │      1473 │\n",
      "│ b3-ams  │  35.81337428719551 │     28935 │\n",
      "│ b1-mia  │ 127.12368611670028 │      1491 │\n",
      "│ b2-iad  │  54.94925906432744 │      5130 │\n",
      "│ b3-lax  │ 113.77352066115692 │      1452 │\n",
      "│ b1-sin  │  70.68820466321243 │      2316 │\n",
      "│ b4-lax  │ 118.28434762979701 │      1329 │\n",
      "│ b2-scl  │  25.38350694444446 │       432 │\n",
      "│ b1-scl  │ 25.029500000000017 │       180 │\n",
      "│ b3-scl  │ 20.429662650602417 │       249 │\n",
      "├─────────┴────────────────────┴───────────┤\n",
      "│ 22 rows                        3 columns │\n",
      "└──────────────────────────────────────────┘\n",
      "\n"
     ]
    }
   ],
   "source": [
    "#Ok, so how would you do it in duckdb\n",
    "res=con.sql('''\n",
    "select rdata,avg(rt),count(1) as responses from atlas where \n",
    "    rdata ~ 'b[0-9]-[A-Za-z]{3}'\n",
    "    AND rdata IS NOT NULL\n",
    "    group by rdata\n",
    "''')\n",
    "\n",
    "print(res)\n"
   ]
  },
  {
   "cell_type": "markdown",
   "id": "acea54f3",
   "metadata": {},
   "source": [
    "**Comment**: I personally find the SQL synthax more readable. \n",
    "(It's a matter of taste)"
   ]
  },
  {
   "cell_type": "markdown",
   "id": "3397dd78",
   "metadata": {},
   "source": [
    "## Exercise 2: \n",
    "\n",
    "Shifting gears: the exercice now is to obtain the average RTT from the probes, to B-ROOT, based on its country of origin.\n",
    "\n",
    "Note, however, that the country of origin is _not_ on the results table, but on the probe metadata.\n",
    "\n",
    "So we need to join the results of two tables.\n",
    "\n",
    "Let's first start with DuckDB"
   ]
  },
  {
   "cell_type": "code",
   "execution_count": 185,
   "id": "7b8c8be2",
   "metadata": {},
   "outputs": [],
   "source": [
    "''' We can do like this on SQL\n",
    "\n",
    "* We join the tables on r.prb_id = p.id, which is the Atlas probe ID\n",
    "* We filter probes that reach B-ROOT servers by looking into `rdata` string\n",
    "* We group by country_code\n",
    "\n",
    "'''\n",
    "res = con.sql('''\n",
    "    SELECT\n",
    "        p.country_code,\n",
    "        AVG(r.rt) AS avg_rt,\n",
    "        COUNT(r.rt) AS total_measurements,\n",
    "        COUNT(DISTINCT r.prb_id) AS number_atlas_probes\n",
    "    FROM\n",
    "        atlas r\n",
    "    JOIN\n",
    "        probes p\n",
    "    ON\n",
    "        r.prb_id = p.id\n",
    "    WHERE\n",
    "        r.rdata ~ 'b[0-9]-[A-Za-z]{3}' AND r.rdata IS NOT NULL\n",
    "    GROUP BY\n",
    "        p.country_code\n",
    "    ORDER BY\n",
    "        avg_rt DESC;\n",
    "''')\n",
    "\n"
   ]
  },
  {
   "cell_type": "code",
   "execution_count": 186,
   "id": "d5fc9895",
   "metadata": {},
   "outputs": [
    {
     "name": "stdout",
     "output_type": "stream",
     "text": [
      "┌──────────────┬────────────────────┬────────────────────┬─────────────────────┐\n",
      "│ country_code │       avg_rt       │ total_measurements │ number_atlas_probes │\n",
      "│   varchar    │       double       │       int64        │        int64        │\n",
      "├──────────────┼────────────────────┼────────────────────┼─────────────────────┤\n",
      "│ VU           │ 325.63949999999994 │                 12 │                   1 │\n",
      "│ NC           │           290.8315 │                 48 │                   4 │\n",
      "│ KI           │  272.4568571428571 │                 21 │                   2 │\n",
      "│ MM           │ 263.70525000000004 │                 12 │                   1 │\n",
      "│ NP           │ 247.75570454545453 │                132 │                  12 │\n",
      "│ PK           │ 225.83114285714285 │                 21 │                   2 │\n",
      "│ CI           │ 210.42600000000002 │                  3 │                   1 │\n",
      "│ MW           │ 207.53987500000008 │                 24 │                   2 │\n",
      "│ GQ           │ 206.79975000000002 │                 12 │                   1 │\n",
      "│ CD           │ 203.27828571428577 │                 42 │                   4 │\n",
      "│ ·            │          ·         │                  · │                   · │\n",
      "│ ·            │          ·         │                  · │                   · │\n",
      "│ ·            │          ·         │                  · │                   · │\n",
      "│ GB           │  24.11623092269319 │               6015 │                 532 │\n",
      "│ DK           │ 23.834773269689716 │               1257 │                 111 │\n",
      "│ CH           │  22.02838074588026 │               3459 │                 309 │\n",
      "│ LI           │ 20.944277777777778 │                 54 │                   5 │\n",
      "│ DE           │ 20.822479255762282 │              18005 │                1636 │\n",
      "│ GG           │             19.163 │                 12 │                   1 │\n",
      "│ BE           │ 16.377819699499188 │               1797 │                 160 │\n",
      "│ LU           │ 13.248532467532481 │                462 │                  41 │\n",
      "│ NL           │ 12.010846872082118 │               6426 │                 575 │\n",
      "│ NULL         │  5.950499999999999 │                 12 │                   1 │\n",
      "├──────────────┴────────────────────┴────────────────────┴─────────────────────┤\n",
      "│ 175 rows (20 shown)                                                4 columns │\n",
      "└──────────────────────────────────────────────────────────────────────────────┘\n",
      "\n"
     ]
    }
   ],
   "source": [
    "print(res)"
   ]
  },
  {
   "cell_type": "code",
   "execution_count": 187,
   "id": "bdde57ca",
   "metadata": {},
   "outputs": [
    {
     "name": "stdout",
     "output_type": "stream",
     "text": [
      "    country_code      avg_rt  total_measurements  number_atlas_probes\n",
      "170           VU  325.639500                   4                    1\n",
      "114           NC  290.831500                  16                    4\n",
      "81            KI  272.456857                   7                    2\n",
      "103           MM  263.705250                   4                    1\n",
      "119           NP  247.755705                  44                   12\n",
      "..           ...         ...                 ...                  ...\n",
      "40            DE   20.819391                6003                 1636\n",
      "54            GG   19.163000                   4                    1\n",
      "14            BE   16.377820                 599                  160\n",
      "94            LU   13.248532                 154                   41\n",
      "117           NL   12.010847                2142                  575\n",
      "\n",
      "[174 rows x 4 columns]\n"
     ]
    }
   ],
   "source": [
    "# now, let's do the same for pandas\n",
    "\n",
    "# Merge DataFrames on prb_id and id\n",
    "merged_df = pd.merge(df, df_prb, left_on='prb_id', right_on='id')\n",
    "\n",
    "\n",
    "\n",
    "# Filter rows where rdata matches the pattern bX-ABC and is not None\n",
    "filtered_df = merged_df[merged_df['rdata'].notna() & merged_df['rdata'].str.match(r'b[0-9]-[A-Za-z]{3}')]\n",
    "\n",
    "# Group by country_code and calculate the required metrics\n",
    "result = filtered_df.groupby('country_code').agg(\n",
    "    avg_rt=('rt', 'mean'),\n",
    "    total_measurements=('rt', 'size'),\n",
    "    number_atlas_probes=('prb_id', 'nunique')\n",
    ").reset_index()\n",
    "\n",
    "# Sort by avg_rt descending\n",
    "result = result.sort_values(by='avg_rt', ascending=False)\n",
    "\n",
    "print(result)"
   ]
  },
  {
   "cell_type": "markdown",
   "id": "317143fd",
   "metadata": {},
   "source": [
    "**Comment**: again, I just prefer to write SQL to do these sort of queries and complex queries\n",
    "\n",
    "\n"
   ]
  },
  {
   "cell_type": "markdown",
   "id": "62bf7706",
   "metadata": {},
   "source": [
    "### Sanity check"
   ]
  },
  {
   "cell_type": "code",
   "execution_count": 188,
   "id": "a532e7f6",
   "metadata": {},
   "outputs": [
    {
     "name": "stdout",
     "output_type": "stream",
     "text": [
      "results pandas\n",
      "country_code    avg_rt  total_measurements  number_atlas_probes\n",
      "          ES 42.404476                 828                  221\n",
      "results duckdb\n",
      "country_code    avg_rt  total_measurements  number_atlas_probes\n",
      "          ES 42.404476                2484                  221\n"
     ]
    }
   ],
   "source": [
    "\n",
    "#sanity check\n",
    "test_pandas=result[result['country_code']=='ES']\n",
    "\n",
    "print(\"results pandas\" )\n",
    "print(test_pandas.to_string(index=False))\n",
    "\n",
    "test_duckdb=con.sql('''\n",
    "SELECT\n",
    "        p.country_code,\n",
    "        AVG(r.rt) AS avg_rt,\n",
    "        COUNT(r.rt) AS total_measurements,\n",
    "        COUNT(DISTINCT r.prb_id) AS number_atlas_probes\n",
    "    FROM\n",
    "        atlas r\n",
    "    JOIN\n",
    "        probes p\n",
    "    ON\n",
    "        r.prb_id = p.id\n",
    "    WHERE\n",
    "        r.rdata ~ 'b[0-9]-[A-Za-z]{3}' AND r.rdata IS NOT NULL\n",
    "    GROUP BY\n",
    "        p.country_code\n",
    "    HAVING\n",
    "        p.country_code = 'ES'\n",
    "    ORDER BY\n",
    "        avg_rt DESC;\n",
    "\n",
    "''')\n",
    "print(\"results duckdb\")\n",
    "print(test_duckdb.to_df().to_string(index=False))\n"
   ]
  },
  {
   "cell_type": "code",
   "execution_count": 190,
   "id": "99a8bae3",
   "metadata": {},
   "outputs": [],
   "source": [
    "## Extra\n",
    "\n",
    "#1. You can export your sql results to Dataframes and carry on\n",
    "\n",
    "res = con.sql('''\n",
    "    SELECT\n",
    "        p.country_code,\n",
    "        AVG(r.rt) AS avg_rt,\n",
    "        COUNT(r.rt) AS total_measurements,\n",
    "        COUNT(DISTINCT r.prb_id) AS number_atlas_probes\n",
    "    FROM\n",
    "        atlas r\n",
    "    JOIN\n",
    "        probes p\n",
    "    ON\n",
    "        r.prb_id = p.id\n",
    "    WHERE\n",
    "        r.rdata ~ 'b[0-9]-[A-Za-z]{3}' AND r.rdata IS NOT NULL\n",
    "    GROUP BY\n",
    "        p.country_code\n",
    "    ORDER BY\n",
    "        avg_rt DESC;\n",
    "''')\n",
    "\n",
    "test_df=res.to_df()\n"
   ]
  },
  {
   "cell_type": "code",
   "execution_count": 191,
   "id": "019f9ba2",
   "metadata": {},
   "outputs": [
    {
     "name": "stdout",
     "output_type": "stream",
     "text": [
      "    country_code      avg_rt  total_measurements  number_atlas_probes\n",
      "0             VU  325.639500                  12                    1\n",
      "1             NC  290.831500                  48                    4\n",
      "2             KI  272.456857                  21                    2\n",
      "3             MM  263.705250                  12                    1\n",
      "4             NP  247.755705                 132                   12\n",
      "..           ...         ...                 ...                  ...\n",
      "170           GG   19.163000                  12                    1\n",
      "171           BE   16.377820                1797                  160\n",
      "172           LU   13.248532                 462                   41\n",
      "173           NL   12.010847                6426                  575\n",
      "174         None    5.950500                  12                    1\n",
      "\n",
      "[175 rows x 4 columns]\n"
     ]
    }
   ],
   "source": [
    "print(test_df)"
   ]
  },
  {
   "cell_type": "markdown",
   "id": "094bced1",
   "metadata": {},
   "source": [
    "# Conclusion\n",
    "\n",
    "* There's an alterantive to dataframe language\n",
    "* Duckdb enables you to write clear SQL\n",
    "* We have shown an alternative engine for analysis for improved clarity\n",
    "\n"
   ]
  }
 ],
 "metadata": {
  "kernelspec": {
   "display_name": "Python 3 (ipykernel)",
   "language": "python",
   "name": "python3"
  },
  "language_info": {
   "codemirror_mode": {
    "name": "ipython",
    "version": 3
   },
   "file_extension": ".py",
   "mimetype": "text/x-python",
   "name": "python",
   "nbconvert_exporter": "python",
   "pygments_lexer": "ipython3",
   "version": "3.12.3"
  }
 },
 "nbformat": 4,
 "nbformat_minor": 5
}
